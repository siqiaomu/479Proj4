{
 "cells": [
  {
   "cell_type": "markdown",
   "metadata": {
    "ExecuteTime": {
     "end_time": "2020-04-09T18:27:44.551977Z",
     "start_time": "2020-04-09T18:27:44.544309Z"
    }
   },
   "source": [
    "# An introduction to Sparse Identification of Nonlinear Dynamical systems (SINDy)\n",
    "This notebook gives an overview of the Sparse Identification of Nonlinear Dynamical systems (SINDy) method and discusses the relationship between SINDy and PySINDy. It also includes a brief example showing how different objects in the SINDy method are represented in PySINDy."
   ]
  },
  {
   "cell_type": "markdown",
   "metadata": {},
   "source": [
    "[![Binder](https://mybinder.org/badge_logo.svg)](https://mybinder.org/v2/gh/dynamicslab/pysindy/v1.6.1?filepath=examples/2_introduction_to_sindy.ipynb)"
   ]
  },
  {
   "cell_type": "markdown",
   "metadata": {},
   "source": [
    "## Main ideas\n",
    "Suppose we have a set of measurements $x(t)\\in \\mathbb{R}^n$ from some physical system at different points in time $t$. SINDy seeks to represent the time evolution of $x(t)$ in terms of a nonlinear function $f$:\n",
    "\n",
    "$$ \\frac{d}{dt}x(t) = f(x(t)). $$\n",
    "\n",
    "This equation constitutes a *dynamical system* for the measurements $x(t)$. The vector $x(t)=[x_1(t), x_2(t), \\dots x_n(t)]^\\top$ gives the state of the physical system at time $t$. The function $f(x(t))$ constrains how the system evolves in time.\n",
    "\n",
    "The key idea behind SINDy is that the function $f$ is often **sparse** in the space of an appropriate set of basis functions. For example, the function\n",
    "\n",
    "$$ \n",
    "\t\\frac{d}{dt}x = f(x)\n",
    "\t= \\begin{bmatrix} f_1(x)\\\\f_2(x) \\end{bmatrix}\n",
    "\t= \\begin{bmatrix}1 - x_1 + 3x_1x_2 \\\\ x_2^2 - 5x_1^3 \\end{bmatrix}\n",
    "$$\n",
    "\n",
    "is sparse with respect to the set of polynomials of two variables in the sense that if we were to write an expansion of the component functions of $f$ in this basis (e.g. $f_{1}(x) = \\sum_{i=0}^\\infty\\sum_{j=0}^\\infty a_{i,j}x_1^ix_2^j$), only a small number of coefficients ($a_{i,j}$) would be nonzero.\n",
    "\n",
    "SINDy employs **sparse regression** to find a linear combination of basis functions that best capture the dynamic behavior of the physical system."
   ]
  },
  {
   "cell_type": "markdown",
   "metadata": {},
   "source": [
    "## Approximation problem\n",
    "To apply SINDy in practice one needs a set of measurement data collected at times $t_1, t_2, \\dots, t_n$, and the time derivatives of these measurements (either measured directly or numerically approximated). These data are aggregated into the matrices $X$ and $\\dot X$, respectively\n",
    "\n",
    "$$\n",
    "\tX = \\begin{bmatrix}\n",
    "\t\tx_1(t_1) & x_2(t_1) & \\dots & x_n(t_1) \\\\\n",
    "\t\tx_1(t_2) & x_2(t_2) & \\dots & x_n(t_2) \\\\\n",
    "\t\t\\vdots & \\vdots & & \\vdots \\\\ x_1(t_m) & x_2(t_m) & \\dots & x_n(t_m)\n",
    "\t\\end{bmatrix},\n",
    "\t\\qquad\n",
    "\t\\dot{X} = \\begin{bmatrix} \\dot{x_1}(t_1) & \\dot{x_2}(t_1) & \\dots & \\dot{x_n}(t_1) \\\\\n",
    "\t\t\\dot{x_1}(t_2) & \\dot{x_2}(t_2) & \\dots & \\dot{x_n}(t_2) \\\\\n",
    "\t\t\\vdots & \\vdots & & \\vdots \\\\\n",
    "\t\t\\dot{x_1}(t_m) & \\dot{x_2}(t_m) & \\dots & \\dot{x_n}(t_m)\n",
    "\t\\end{bmatrix}.\n",
    "$$\n",
    "\n",
    "Next, one forms a library matrix $\\Theta(X)$ whose columns consist of a chosen set of basis functions applied to the data\n",
    "\n",
    "$$\n",
    "\t\\Theta(X) = \\begin{bmatrix}\n",
    "\t\t\\mid & \\mid & & \\mid \\\\\n",
    "\t\t\\theta_1(X) & \\theta_2(X) & \\dots & \\theta_\\ell(X) \\\\\n",
    "\t\t\\mid & \\mid & & \\mid \n",
    "\t\\end{bmatrix}.\n",
    "$$\n",
    "\n",
    "For example, if $\\theta_1(x), \\theta_2(x), \\dots, \\theta_\\ell(x)$ are monomials ($\\theta_i(x) = x^{i-1}$), then \n",
    "\n",
    "$$\n",
    "\t\\theta_3(X) = \\begin{bmatrix}\n",
    "\t\t\\mid & \\mid & & \\mid & \\mid & & \\mid \\\\\n",
    "\t\tx_1(t)^2 & x_1(t)x_2(t) & \\dots & x_2(t)^2 & x_2(t)x_3(t) & \\dots & x_n^2(t) \\\\\n",
    "\t\t\\mid & \\mid & & \\mid & \\mid & & \\mid\n",
    "\t\\end{bmatrix},\n",
    "$$\n",
    "\n",
    "where vector products and powers are understood to be element-wise.\n",
    "\n",
    "We seek a set of sparse coefficient vectors (collected into a matrix)\n",
    "\n",
    "$$\n",
    "\t\\Xi = \\begin{bmatrix}\n",
    "\t\t\\mid & \\mid & & \\mid \\\\\n",
    "\t\t\\xi_1 & \\xi_2 & \\dots & \\xi_n \\\\\n",
    "\t\t\\mid & \\mid & & \\mid\n",
    "\t\\end{bmatrix}.\n",
    "$$\n",
    "\n",
    "The vector $\\xi_i$ provides the coefficients for a linear combination of basis functions $\\theta_1(x), \\theta_2(x), \\dots, \\theta_\\ell(x)$ representing the $i$th component function of $f$: $f_i(x)$. That is to say, $f_i(x) = \\Theta\\left(x^\\top\\right) \\xi_i$, where $\\Theta\\left(x^\\top\\right)$ is understood to be a row vector consisting of symbolic functions (whereas $\\Theta(X)$ is a matrix whose entries are numerical values).\n",
    "\n",
    "With each of the objects $X$, $\\dot X$, $\\Theta(X)$, and $\\Xi$ being defined, we are ready to write down the approximation problem underlying SINDy:\n",
    "\n",
    "$$ \\dot X \\approx \\Theta(X)\\Xi. $$"
   ]
  },
  {
   "cell_type": "markdown",
   "metadata": {},
   "source": [
    "## Structure of PySINDy\n",
    "The submodules of PySINDy are each aligned with one of the terms in the aforementioned approximation equation\n",
    "\n",
    "$$ \\dot X \\approx \\Theta(X)\\Xi. $$\n",
    "\n",
    " * `pysindy.differentiate` performs numerical differentiation to compute $\\dot X$ from $X$;\n",
    " * `pysindy.feature_library` allows the user to specify a set of library functions and handles the formation of $\\Theta(X)$;\n",
    " * `pysindy.optimizers` provides a set of sparse regression solvers for determining $\\Xi$.\n",
    "\n",
    "The `SINDy` object encapsulates one class object from each of these three submodules and uses them, along with a user-supplied data matrix, to find a governing dynamical system.\n",
    "\n",
    "Let's walk through an example showing how this works using a toy dataset."
   ]
  },
  {
   "cell_type": "markdown",
   "metadata": {},
   "source": [
    "## Example\n",
    "Suppose we have measurements of the position of a particle obeying the following dynamical system at different points in time:\n",
    "\n",
    "$$\n",
    "\t\\frac{d}{dt} \\begin{bmatrix} x \\\\ y \\end{bmatrix}\n",
    "\t= \\begin{bmatrix} -2x \\\\ y \\end{bmatrix}\n",
    "\t= \\begin{bmatrix} -2 & 0 \\\\ 0 & 1 \\end{bmatrix}\n",
    "\t\\begin{bmatrix} x \\\\ y \\end{bmatrix}\n",
    "$$\n",
    "\n",
    "Note that this system of differential equations decouples into two differential equations whose solutions are simply $x(t) = x_0e^{-2t}$ and $y(t) = y_0e^t$, where $x_0 = x(0)$ and $y_0=y(0)$ are the initial conditions.\n",
    "\n",
    "Using the initial conditions $x_0 = 3$ and $y_0 = \\tfrac{1}{2}$, we construct the data matrix $X$."
   ]
  },
  {
   "cell_type": "code",
   "execution_count": 9,
   "metadata": {
    "ExecuteTime": {
     "end_time": "2020-05-06T19:30:34.476137Z",
     "start_time": "2020-05-06T19:30:33.805539Z"
    }
   },
   "outputs": [
    {
     "ename": "ModuleNotFoundError",
     "evalue": "No module named 'pysindy'",
     "output_type": "error",
     "traceback": [
      "\u001b[0;31m---------------------------------------------------------------------------\u001b[0m",
      "\u001b[0;31mModuleNotFoundError\u001b[0m                       Traceback (most recent call last)",
      "\u001b[0;32m<ipython-input-9-5e5b4873a79a>\u001b[0m in \u001b[0;36m<module>\u001b[0;34m\u001b[0m\n\u001b[1;32m      1\u001b[0m \u001b[0;32mimport\u001b[0m \u001b[0mnumpy\u001b[0m \u001b[0;32mas\u001b[0m \u001b[0mnp\u001b[0m\u001b[0;34m\u001b[0m\u001b[0;34m\u001b[0m\u001b[0m\n\u001b[0;32m----> 2\u001b[0;31m \u001b[0;32mimport\u001b[0m \u001b[0mpysindy\u001b[0m \u001b[0;32mas\u001b[0m \u001b[0mps\u001b[0m\u001b[0;34m\u001b[0m\u001b[0;34m\u001b[0m\u001b[0m\n\u001b[0m\u001b[1;32m      3\u001b[0m \u001b[0;32mimport\u001b[0m \u001b[0mnumpy\u001b[0m \u001b[0;32mas\u001b[0m \u001b[0mnp\u001b[0m\u001b[0;34m\u001b[0m\u001b[0;34m\u001b[0m\u001b[0m\n\u001b[1;32m      4\u001b[0m \u001b[0;32mimport\u001b[0m \u001b[0mmath\u001b[0m \u001b[0;32mas\u001b[0m \u001b[0mmath\u001b[0m\u001b[0;34m\u001b[0m\u001b[0;34m\u001b[0m\u001b[0m\n",
      "\u001b[0;31mModuleNotFoundError\u001b[0m: No module named 'pysindy'"
     ]
    }
   ],
   "source": [
    "import numpy as np\n",
    "import pysindy as ps\n",
    "import numpy as np\n",
    "import math as math"
   ]
  },
  {
   "cell_type": "code",
   "execution_count": 8,
   "metadata": {
    "ExecuteTime": {
     "end_time": "2020-05-06T19:30:34.484161Z",
     "start_time": "2020-05-06T19:30:34.479291Z"
    }
   },
   "outputs": [
    {
     "ename": "NameError",
     "evalue": "name 'math' is not defined",
     "output_type": "error",
     "traceback": [
      "\u001b[0;31m---------------------------------------------------------------------------\u001b[0m",
      "\u001b[0;31mNameError\u001b[0m                                 Traceback (most recent call last)",
      "\u001b[0;32m<ipython-input-8-572830a25856>\u001b[0m in \u001b[0;36m<module>\u001b[0;34m\u001b[0m\n\u001b[1;32m      1\u001b[0m \u001b[0mt\u001b[0m \u001b[0;34m=\u001b[0m \u001b[0mnp\u001b[0m\u001b[0;34m.\u001b[0m\u001b[0mlinspace\u001b[0m\u001b[0;34m(\u001b[0m\u001b[0;36m0\u001b[0m\u001b[0;34m,\u001b[0m \u001b[0;36m1\u001b[0m\u001b[0;34m,\u001b[0m \u001b[0;36m100\u001b[0m\u001b[0;34m)\u001b[0m\u001b[0;34m\u001b[0m\u001b[0;34m\u001b[0m\u001b[0m\n\u001b[0;32m----> 2\u001b[0;31m \u001b[0mx\u001b[0m \u001b[0;34m=\u001b[0m \u001b[0;36m1\u001b[0m\u001b[0;34m/\u001b[0m\u001b[0;36m2\u001b[0m \u001b[0;34m*\u001b[0m \u001b[0mnp\u001b[0m\u001b[0;34m.\u001b[0m\u001b[0mexp\u001b[0m\u001b[0;34m(\u001b[0m\u001b[0;34m-\u001b[0m\u001b[0mmath\u001b[0m\u001b[0;34m.\u001b[0m\u001b[0msqrt\u001b[0m\u001b[0;34m(\u001b[0m\u001b[0;36m6\u001b[0m\u001b[0;34m)\u001b[0m \u001b[0;34m*\u001b[0m \u001b[0mt\u001b[0m\u001b[0;34m)\u001b[0m \u001b[0;34m*\u001b[0m \u001b[0;34m(\u001b[0m\u001b[0;36m1\u001b[0m \u001b[0;34m+\u001b[0m \u001b[0mnp\u001b[0m\u001b[0;34m.\u001b[0m\u001b[0mexp\u001b[0m\u001b[0;34m(\u001b[0m\u001b[0;36m2\u001b[0m\u001b[0;34m*\u001b[0m\u001b[0mmath\u001b[0m\u001b[0;34m.\u001b[0m\u001b[0msqrt\u001b[0m\u001b[0;34m(\u001b[0m\u001b[0;36m6\u001b[0m\u001b[0;34m)\u001b[0m\u001b[0;34m*\u001b[0m\u001b[0mt\u001b[0m\u001b[0;34m)\u001b[0m\u001b[0;34m)\u001b[0m\u001b[0;34m\u001b[0m\u001b[0;34m\u001b[0m\u001b[0m\n\u001b[0m\u001b[1;32m      3\u001b[0m \u001b[0my\u001b[0m \u001b[0;34m=\u001b[0m \u001b[0;36m1\u001b[0m\u001b[0;34m/\u001b[0m\u001b[0;36m4\u001b[0m \u001b[0;34m*\u001b[0m \u001b[0mnp\u001b[0m\u001b[0;34m.\u001b[0m\u001b[0mexp\u001b[0m\u001b[0;34m(\u001b[0m\u001b[0;34m-\u001b[0m\u001b[0mmath\u001b[0m\u001b[0;34m.\u001b[0m\u001b[0msqrt\u001b[0m\u001b[0;34m(\u001b[0m\u001b[0;36m6\u001b[0m\u001b[0;34m)\u001b[0m \u001b[0;34m*\u001b[0m \u001b[0mt\u001b[0m\u001b[0;34m)\u001b[0m \u001b[0;34m*\u001b[0m \u001b[0;34m(\u001b[0m\u001b[0;36m2\u001b[0m \u001b[0;34m-\u001b[0m \u001b[0mmath\u001b[0m\u001b[0;34m.\u001b[0m\u001b[0msqrt\u001b[0m\u001b[0;34m(\u001b[0m\u001b[0;36m6\u001b[0m\u001b[0;34m)\u001b[0m \u001b[0;34m+\u001b[0m \u001b[0;34m(\u001b[0m\u001b[0;36m2\u001b[0m \u001b[0;34m+\u001b[0m \u001b[0mmath\u001b[0m\u001b[0;34m.\u001b[0m\u001b[0msqrt\u001b[0m\u001b[0;34m(\u001b[0m\u001b[0;36m6\u001b[0m\u001b[0;34m)\u001b[0m\u001b[0;34m)\u001b[0m\u001b[0;34m*\u001b[0m\u001b[0mnp\u001b[0m\u001b[0;34m.\u001b[0m\u001b[0mexp\u001b[0m\u001b[0;34m(\u001b[0m\u001b[0;36m2\u001b[0m\u001b[0;34m*\u001b[0m\u001b[0mmath\u001b[0m\u001b[0;34m.\u001b[0m\u001b[0msqrt\u001b[0m\u001b[0;34m(\u001b[0m\u001b[0;36m6\u001b[0m\u001b[0;34m)\u001b[0m\u001b[0;34m*\u001b[0m\u001b[0mt\u001b[0m\u001b[0;34m)\u001b[0m\u001b[0;34m)\u001b[0m\u001b[0;34m\u001b[0m\u001b[0;34m\u001b[0m\u001b[0m\n\u001b[1;32m      4\u001b[0m \u001b[0mX\u001b[0m \u001b[0;34m=\u001b[0m \u001b[0mnp\u001b[0m\u001b[0;34m.\u001b[0m\u001b[0mstack\u001b[0m\u001b[0;34m(\u001b[0m\u001b[0;34m(\u001b[0m\u001b[0mx\u001b[0m\u001b[0;34m,\u001b[0m \u001b[0my\u001b[0m\u001b[0;34m)\u001b[0m\u001b[0;34m,\u001b[0m \u001b[0maxis\u001b[0m\u001b[0;34m=\u001b[0m\u001b[0;34m-\u001b[0m\u001b[0;36m1\u001b[0m\u001b[0;34m)\u001b[0m  \u001b[0;31m# First column is x, second is y\u001b[0m\u001b[0;34m\u001b[0m\u001b[0;34m\u001b[0m\u001b[0m\n",
      "\u001b[0;31mNameError\u001b[0m: name 'math' is not defined"
     ]
    }
   ],
   "source": [
    "t = np.linspace(0, 1, 100)\n",
    "\n",
    "np.delete(t,[9,10,19,20,29,30,34,35,39,40,45,51,60,62,65,78,89,93])\n",
    "\n",
    "x = 1/2 * np.exp(-math.sqrt(6) * t) * (1 + np.exp(2*math.sqrt(6)*t))\n",
    "y = 1/4 * np.exp(-math.sqrt(6) * t) * (2 - math.sqrt(6) + (2 + math.sqrt(6))*np.exp(2*math.sqrt(6)*t))\n",
    "\n",
    "\n",
    "X = np.stack((x, y), axis=-1)  # First column is x, second is y"
   ]
  },
  {
   "cell_type": "markdown",
   "metadata": {
    "ExecuteTime": {
     "end_time": "2020-04-09T18:40:02.813464Z",
     "start_time": "2020-04-09T18:40:02.804987Z"
    }
   },
   "source": [
    "We can select a differentiation method from the `differentiation` submodule."
   ]
  },
  {
   "cell_type": "code",
   "execution_count": null,
   "metadata": {
    "ExecuteTime": {
     "end_time": "2020-05-06T19:30:34.556434Z",
     "start_time": "2020-05-06T19:30:34.486716Z"
    }
   },
   "outputs": [],
   "source": [
    "differentiation_method = ps.FiniteDifference(order=2)\n",
    "\n",
    "# We could instead call ps.differentiation.FiniteDifference(order=2)"
   ]
  },
  {
   "cell_type": "markdown",
   "metadata": {},
   "source": [
    "While we could use this method to compute $\\dot X$ \"by hand,\" it is often more convenient to pass it into the `SINDy` object and let the computation of $\\dot X$ be handled automatically.\n",
    "\n",
    "The candidate library can be specified with an object from the `feature_library` submodule, which will also be passed into the `SINDy` object."
   ]
  },
  {
   "cell_type": "code",
   "execution_count": null,
   "metadata": {
    "ExecuteTime": {
     "end_time": "2020-05-06T19:30:34.627472Z",
     "start_time": "2020-05-06T19:30:34.561177Z"
    }
   },
   "outputs": [],
   "source": [
    "feature_library = ps.PolynomialLibrary(degree=2)\n",
    "\n",
    "# Note: We could instead call ps.feature_library.PolynomialLibrary(degree=3)"
   ]
  },
  {
   "cell_type": "markdown",
   "metadata": {},
   "source": [
    "Next we select which optimizer should be used."
   ]
  },
  {
   "cell_type": "code",
   "execution_count": null,
   "metadata": {
    "ExecuteTime": {
     "end_time": "2020-05-06T19:30:34.694085Z",
     "start_time": "2020-05-06T19:30:34.632427Z"
    }
   },
   "outputs": [],
   "source": [
    "optimizer = ps.STLSQ(threshold=0.2)\n",
    "\n",
    "# Note: We could instead call ps.optimizers.STLSQ(threshold=0.2)"
   ]
  },
  {
   "cell_type": "markdown",
   "metadata": {},
   "source": [
    "Finally, we bring these three components together in one `SINDy` object."
   ]
  },
  {
   "cell_type": "code",
   "execution_count": null,
   "metadata": {
    "ExecuteTime": {
     "end_time": "2020-05-06T19:30:34.781346Z",
     "start_time": "2020-05-06T19:30:34.699244Z"
    }
   },
   "outputs": [],
   "source": [
    "model = ps.SINDy(\n",
    "    differentiation_method=differentiation_method,\n",
    "    feature_library=feature_library,\n",
    "    optimizer=optimizer,\n",
    "    feature_names=[\"x\", \"y\"]\n",
    ")"
   ]
  },
  {
   "cell_type": "markdown",
   "metadata": {},
   "source": [
    "Following the `scikit-learn` workflow, we first instantiate a `SINDy` class object with the desired properties, then fit it to the data in separate step."
   ]
  },
  {
   "cell_type": "code",
   "execution_count": null,
   "metadata": {
    "ExecuteTime": {
     "end_time": "2020-05-06T19:30:34.892681Z",
     "start_time": "2020-05-06T19:30:34.789619Z"
    }
   },
   "outputs": [],
   "source": [
    "model.fit(X, t=t)"
   ]
  },
  {
   "cell_type": "markdown",
   "metadata": {},
   "source": [
    "We can inspect the governing equations discovered by the model and check whether they seem reasonable with the `print` function."
   ]
  },
  {
   "cell_type": "code",
   "execution_count": null,
   "metadata": {
    "ExecuteTime": {
     "end_time": "2020-05-06T19:30:34.951590Z",
     "start_time": "2020-05-06T19:30:34.898283Z"
    }
   },
   "outputs": [],
   "source": [
    "model.print()"
   ]
  },
  {
   "cell_type": "markdown",
   "metadata": {},
   "source": [
    "Once the SINDy model has been fit we can use it to evolve new initial conditions forward in time with the `simulate` function."
   ]
  },
  {
   "cell_type": "code",
   "execution_count": null,
   "metadata": {
    "ExecuteTime": {
     "end_time": "2020-05-06T19:30:35.056598Z",
     "start_time": "2020-05-06T19:30:34.955999Z"
    }
   },
   "outputs": [],
   "source": [
    "x0 = 1\n",
    "y0 = -1\n",
    "\n",
    "t_test = np.linspace(0, 1, 100)\n",
    "x_test = -1/6 * np.exp(-math.sqrt(6) * t) * (-3 - 2*math.sqrt(6) + (-3+2*math.sqrt(6))*np.exp(2*math.sqrt(6)*t))\n",
    "y_test = -1/12 * np.exp(-math.sqrt(6) * t) * (6 - math.sqrt(6) + (6 + math.sqrt(6))*np.exp(2*math.sqrt(6)*t))\n",
    "\n",
    "sim = model.simulate([x0, y0], t=t_test)"
   ]
  },
  {
   "cell_type": "code",
   "execution_count": null,
   "metadata": {
    "ExecuteTime": {
     "end_time": "2020-05-06T19:30:35.724879Z",
     "start_time": "2020-05-06T19:30:35.059810Z"
    }
   },
   "outputs": [],
   "source": [
    "import matplotlib.pyplot as plt\n",
    "\n",
    "plt.figure()\n",
    "plt.plot(x0, y0, \"ro\", label=\"Initial condition\", alpha=0.6, markersize=8)\n",
    "plt.plot(x_test, y_test, \"b\", label=\"Exact solution\", alpha=0.4, linewidth=4)\n",
    "plt.plot(sim[:, 0], sim[:, 1], \"k--\", label=\"SINDy model\", linewidth=3)\n",
    "plt.xlabel(\"x\")\n",
    "plt.ylabel(\"y\")\n",
    "plt.legend()\n",
    "plt.show()"
   ]
  },
  {
   "cell_type": "markdown",
   "metadata": {},
   "source": [
    "Note that if the library we had chosen had been inappropriate for the problem at hand (i.e. if the dynamics could not be well-approximated as a sparse linear combination of library functions), then SINDy would have failed to produce a reasonable model. For example, if we solve the same problem, but using sines and cosines as our basis functions, SINDy is unable to find a sparse model for the dynamics:"
   ]
  },
  {
   "cell_type": "code",
   "execution_count": null,
   "metadata": {
    "ExecuteTime": {
     "end_time": "2020-05-06T19:30:35.741380Z",
     "start_time": "2020-05-06T19:30:35.728187Z"
    }
   },
   "outputs": [],
   "source": [
    "# Populate the library with trigonometric functions\n",
    "feature_library = ps.FourierLibrary()\n",
    "\n",
    "model = ps.SINDy(\n",
    "    differentiation_method=differentiation_method,\n",
    "    feature_library=feature_library,\n",
    "    optimizer=optimizer,\n",
    "    feature_names=[\"x\", \"y\"]\n",
    ")\n",
    "model.fit(X, t=t)\n",
    "model.print()"
   ]
  }
 ],
 "metadata": {
  "kernelspec": {
   "display_name": "Python 3",
   "language": "python",
   "name": "python3"
  },
  "language_info": {
   "codemirror_mode": {
    "name": "ipython",
    "version": 3
   },
   "file_extension": ".py",
   "mimetype": "text/x-python",
   "name": "python",
   "nbconvert_exporter": "python",
   "pygments_lexer": "ipython3",
   "version": "3.7.6"
  },
  "toc": {
   "base_numbering": 1,
   "nav_menu": {},
   "number_sections": true,
   "sideBar": true,
   "skip_h1_title": false,
   "title_cell": "Table of Contents",
   "title_sidebar": "Contents",
   "toc_cell": false,
   "toc_position": {},
   "toc_section_display": true,
   "toc_window_display": false
  },
  "varInspector": {
   "cols": {
    "lenName": 16,
    "lenType": 16,
    "lenVar": 40
   },
   "kernels_config": {
    "python": {
     "delete_cmd_postfix": "",
     "delete_cmd_prefix": "del ",
     "library": "var_list.py",
     "varRefreshCmd": "print(var_dic_list())"
    },
    "r": {
     "delete_cmd_postfix": ") ",
     "delete_cmd_prefix": "rm(",
     "library": "var_list.r",
     "varRefreshCmd": "cat(var_dic_list()) "
    }
   },
   "types_to_exclude": [
    "module",
    "function",
    "builtin_function_or_method",
    "instance",
    "_Feature"
   ],
   "window_display": false
  }
 },
 "nbformat": 4,
 "nbformat_minor": 4
}
